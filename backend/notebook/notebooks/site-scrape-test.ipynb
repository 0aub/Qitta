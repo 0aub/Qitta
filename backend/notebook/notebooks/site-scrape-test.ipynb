{
 "cells": [
  {
   "cell_type": "code",
   "execution_count": 1,
   "id": "10c5e042",
   "metadata": {},
   "outputs": [],
   "source": [
    "import os, time, pathlib, pprint, requests\n",
    "\n",
    "EP       = os.getenv(\"BROWSER_ENDPOINT\", \"http://browser:8004\")\n",
    "SCRAPED  = pathlib.Path(\"/storage/scraped_data\")\n",
    "\n",
    "def wait_for(job_id, every=2):\n",
    "    while True:\n",
    "        rec = requests.get(f\"{EP}/jobs/{job_id}\").json()\n",
    "        if not rec[\"status\"] in {\"finished\", \"error\"}:\n",
    "            print(\"\\r\" + rec[\"status_with_elapsed\"], end=\"\")\n",
    "        else:\n",
    "            print(\"\\n\" + rec[\"status\"])\n",
    "            return rec\n",
    "        time.sleep(every)\n",
    "\n",
    "def submit(task, payload):\n",
    "    r = requests.post(f\"{EP}/jobs/{task}\", json=payload)\n",
    "    r.raise_for_status()\n",
    "    jid = r.json()[\"job_id\"]\n",
    "    print(\"🆔\", task, \"job:\", jid)\n",
    "    return wait_for(jid)"
   ]
  },
  {
   "cell_type": "code",
   "execution_count": null,
   "id": "b46e2384",
   "metadata": {},
   "outputs": [],
   "source": [
    "# Limited pages scraping\n",
    "limited_test = {\n",
    "    \"url\": \"https://docs.python.org\",\n",
    "    \"max_pages\": 10\n",
    "}\n",
    "res1 = submit(\"scrape-site\", limited_test)\n",
    "print(\"Limited pages scrape:\")\n",
    "pprint.pp(res1)"
   ]
  },
  {
   "cell_type": "code",
   "execution_count": null,
   "id": "b93c26ec",
   "metadata": {},
   "outputs": [],
   "source": [
    "  # Test the fixes - website scraping (should skip CSS files now)\n",
    "  scrape_test = {\"url\": \"www.care-mate.co\", \"max_pages\": 5, \"use_browser\": True}\n",
    "  res2 = submit(\"scrape-site\", scrape_test)\n",
    "  print(\"Fixed website scraping:\")\n",
    "  pprint.pp(res2)"
   ]
  },
  {
   "cell_type": "code",
   "execution_count": null,
   "id": "5277f117",
   "metadata": {},
   "outputs": [],
   "source": [
    "# Test extract-content with proper job_id discovery\n",
    "if res2.get(\"status\") == \"finished\":\n",
    "    extract_test = {\n",
    "        \"job_id\": res2[\"job_id\"],\n",
    "        \"chunk_size\": 1000,\n",
    "        \"overlap\": 200\n",
    "    }\n",
    "    res3 = submit(\"extract-content\", extract_test)\n",
    "    print(\"Fixed content extraction:\")\n",
    "    pprint.pp(res3)"
   ]
  }
 ],
 "metadata": {
  "kernelspec": {
   "display_name": "Python 3 (ipykernel)",
   "language": "python",
   "name": "python3"
  },
  "language_info": {
   "codemirror_mode": {
    "name": "ipython",
    "version": 3
   },
   "file_extension": ".py",
   "mimetype": "text/x-python",
   "name": "python",
   "nbconvert_exporter": "python",
   "pygments_lexer": "ipython3",
   "version": "3.11.13"
  }
 },
 "nbformat": 4,
 "nbformat_minor": 5
}
