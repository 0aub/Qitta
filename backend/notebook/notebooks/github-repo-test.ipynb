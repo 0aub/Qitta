{
 "cells": [
  {
   "cell_type": "code",
   "execution_count": null,
   "id": "460a7931",
   "metadata": {},
   "outputs": [],
   "source": [
    "import os, time, pathlib, pprint, requests\n",
    "\n",
    "EP       = os.getenv(\"BROWSER_ENDPOINT\", \"http://browser:8004\")\n",
    "SCRAPED  = pathlib.Path(\"/storage/scraped_data\")\n",
    "\n",
    "def wait_for(job_id, every=2):\n",
    "    while True:\n",
    "        rec = requests.get(f\"{EP}/jobs/{job_id}\").json()\n",
    "        if not rec[\"status\"] in {\"finished\", \"error\"}:\n",
    "            print(\"\\r\" + rec[\"status_with_elapsed\"], end=\"\")\n",
    "        else:\n",
    "            print(\"\\n\" + rec[\"status\"])\n",
    "            return rec\n",
    "        time.sleep(every)\n",
    "\n",
    "def submit(task, payload):\n",
    "    r = requests.post(f\"{EP}/jobs/{task}\", json=payload)\n",
    "    r.raise_for_status()\n",
    "    jid = r.json()[\"job_id\"]\n",
    "    print(\"🆔\", task, \"job:\", jid)\n",
    "    return wait_for(jid)"
   ]
  },
  {
   "cell_type": "code",
   "execution_count": null,
   "id": "75afc3a1",
   "metadata": {},
   "outputs": [],
   "source": [
    "github_code_only = {\n",
    "    \"repo_url\": \"https://github.com/0aub/Qitta\",\n",
    "    \"include_issues\": False,\n",
    "    \"include_releases\": False,\n",
    "    \"max_files\": 100\n",
    "}\n",
    "res1 = submit(\"github-repo\", github_code_only)\n",
    "print(\"GitHub repo (code only):\")\n",
    "pprint.pp(res1)"
   ]
  },
  {
   "cell_type": "code",
   "execution_count": null,
   "id": "ed148e47",
   "metadata": {},
   "outputs": [],
   "source": [
    "github_test = {\"repo_url\": \"https://github.com/0aub/Qitta\"}\n",
    "res2 = submit(\"github-repo\", github_test)\n",
    "print(\"GitHub repo scraping:\")\n",
    "pprint.pp(res2)"
   ]
  }
 ],
 "metadata": {
  "language_info": {
   "name": "python"
  }
 },
 "nbformat": 4,
 "nbformat_minor": 5
}
