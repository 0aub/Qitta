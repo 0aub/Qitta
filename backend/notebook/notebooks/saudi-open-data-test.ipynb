{
 "cells": [
  {
   "cell_type": "code",
   "execution_count": 16,
   "id": "2e8a7e11-7db3-4a51-b760-658d66cca80f",
   "metadata": {},
   "outputs": [],
   "source": [
    "import os, time, pathlib, pprint, requests\n",
    "\n",
    "EP       = os.getenv(\"BROWSER_ENDPOINT\", \"http://browser:8004\")\n",
    "SCRAPED  = pathlib.Path(\"/storage/scraped_data\")\n",
    "\n",
    "def wait_for(job_id, every=2):\n",
    "    while True:\n",
    "        rec = requests.get(f\"{EP}/jobs/{job_id}\").json()\n",
    "        if not rec[\"status\"] in {\"finished\", \"error\"}:\n",
    "            print(\"\\r\" + rec[\"status_with_elapsed\"], end=\"\")\n",
    "        else:\n",
    "            print(\"\\n\" + rec[\"status\"])\n",
    "            return rec\n",
    "        time.sleep(every)\n",
    "\n",
    "def submit(task, payload):\n",
    "    r = requests.post(f\"{EP}/jobs/{task}\", json=payload)\n",
    "    r.raise_for_status()\n",
    "    jid = r.json()[\"job_id\"]\n",
    "    print(\"🆔\", task, \"job:\", jid)\n",
    "    return wait_for(jid)"
   ]
  },
  {
   "cell_type": "code",
   "execution_count": 14,
   "id": "009057c8-2727-4744-86a8-e9b8ff43c9ed",
   "metadata": {},
   "outputs": [],
   "source": [
    "# #  single dataset\n",
    "# res = submit(\"saudi-open-data\", {\"dataset_id\": \"18887141-a088-4167-9aef-177791adb412\"})\n",
    "# print(\"\\n\\n\\n\")\n",
    "# pprint.pp(res)"
   ]
  },
  {
   "cell_type": "code",
   "execution_count": 18,
   "id": "cb4b108a-8e24-4ba7-b8d1-9efe7fd1d9ba",
   "metadata": {},
   "outputs": [
    {
     "name": "stdout",
     "output_type": "stream",
     "text": [
      "🆔 saudi-open-data job: 0206518887174c59905a38c93b5f86bf\n",
      "running 53m 14s"
     ]
    },
    {
     "ename": "KeyboardInterrupt",
     "evalue": "",
     "output_type": "error",
     "traceback": [
      "\u001b[31m---------------------------------------------------------------------------\u001b[39m",
      "\u001b[31mKeyboardInterrupt\u001b[39m                         Traceback (most recent call last)",
      "\u001b[36mCell\u001b[39m\u001b[36m \u001b[39m\u001b[32mIn[18]\u001b[39m\u001b[32m, line 4\u001b[39m\n\u001b[32m      2\u001b[39m pub_id = \u001b[33m\"\u001b[39m\u001b[33m694ebd35-2ea6-4f1d-84b6-2ea875159b95\u001b[39m\u001b[33m\"\u001b[39m\n\u001b[32m      3\u001b[39m range_demo = {\u001b[33m\"\u001b[39m\u001b[33mpublisher_id\u001b[39m\u001b[33m\"\u001b[39m: pub_id}\n\u001b[32m----> \u001b[39m\u001b[32m4\u001b[39m res2a = \u001b[43msubmit\u001b[49m\u001b[43m(\u001b[49m\u001b[33;43m\"\u001b[39;49m\u001b[33;43msaudi-open-data\u001b[39;49m\u001b[33;43m\"\u001b[39;49m\u001b[43m,\u001b[49m\u001b[43m \u001b[49m\u001b[43mrange_demo\u001b[49m\u001b[43m)\u001b[49m\n\u001b[32m      5\u001b[39m pprint.pp(res2a)\n",
      "\u001b[36mCell\u001b[39m\u001b[36m \u001b[39m\u001b[32mIn[16]\u001b[39m\u001b[32m, line 21\u001b[39m, in \u001b[36msubmit\u001b[39m\u001b[34m(task, payload)\u001b[39m\n\u001b[32m     19\u001b[39m jid = r.json()[\u001b[33m\"\u001b[39m\u001b[33mjob_id\u001b[39m\u001b[33m\"\u001b[39m]\n\u001b[32m     20\u001b[39m \u001b[38;5;28mprint\u001b[39m(\u001b[33m\"\u001b[39m\u001b[33m🆔\u001b[39m\u001b[33m\"\u001b[39m, task, \u001b[33m\"\u001b[39m\u001b[33mjob:\u001b[39m\u001b[33m\"\u001b[39m, jid)\n\u001b[32m---> \u001b[39m\u001b[32m21\u001b[39m \u001b[38;5;28;01mreturn\u001b[39;00m \u001b[43mwait_for\u001b[49m\u001b[43m(\u001b[49m\u001b[43mjid\u001b[49m\u001b[43m)\u001b[49m\n",
      "\u001b[36mCell\u001b[39m\u001b[36m \u001b[39m\u001b[32mIn[16]\u001b[39m\u001b[32m, line 14\u001b[39m, in \u001b[36mwait_for\u001b[39m\u001b[34m(job_id, every)\u001b[39m\n\u001b[32m     12\u001b[39m     \u001b[38;5;28mprint\u001b[39m(\u001b[33m\"\u001b[39m\u001b[38;5;130;01m\\n\u001b[39;00m\u001b[33m\"\u001b[39m + rec[\u001b[33m\"\u001b[39m\u001b[33mstatus\u001b[39m\u001b[33m\"\u001b[39m])\n\u001b[32m     13\u001b[39m     \u001b[38;5;28;01mreturn\u001b[39;00m rec\n\u001b[32m---> \u001b[39m\u001b[32m14\u001b[39m time.sleep(every)\n",
      "\u001b[31mKeyboardInterrupt\u001b[39m: "
     ]
    }
   ],
   "source": [
    "#  first 500 datasets of a publisher (range)\n",
    "pub_id = \"694ebd35-2ea6-4f1d-84b6-2ea875159b95\"\n",
    "range_demo = {\"publisher_id\": pub_id}\n",
    "res2a = submit(\"saudi-open-data\", range_demo)\n",
    "pprint.pp(res2a)"
   ]
  },
  {
   "cell_type": "code",
   "execution_count": null,
   "id": "0ac1746e-97da-4357-ae0e-906943132c87",
   "metadata": {},
   "outputs": [],
   "source": [
    "# # all the publisher data, no range\n",
    "# pub_id = \"694ebd35-2ea6-4f1d-84b6-2ea875159b95\"\n",
    "# range_demo = {\"publisher_id\": pub_id, \"dataset_range\": [1, 500]}\n",
    "# res2a = submit(\"saudi-open-data\", range_demo)\n",
    "# pprint.pp(res2a)"
   ]
  }
 ],
 "metadata": {
  "kernelspec": {
   "display_name": "Python 3 (ipykernel)",
   "language": "python",
   "name": "python3"
  },
  "language_info": {
   "codemirror_mode": {
    "name": "ipython",
    "version": 3
   },
   "file_extension": ".py",
   "mimetype": "text/x-python",
   "name": "python",
   "nbconvert_exporter": "python",
   "pygments_lexer": "ipython3",
   "version": "3.11.13"
  }
 },
 "nbformat": 4,
 "nbformat_minor": 5
}
