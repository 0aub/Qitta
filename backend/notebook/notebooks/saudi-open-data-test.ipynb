{
 "cells": [
  {
   "cell_type": "code",
   "execution_count": 1,
   "id": "2e8a7e11-7db3-4a51-b760-658d66cca80f",
   "metadata": {},
   "outputs": [],
   "source": [
    "import os, time, pathlib, pprint, requests\n",
    "\n",
    "EP       = os.getenv(\"BROWSER_ENDPOINT\", \"http://browser:8004\")\n",
    "SCRAPED  = pathlib.Path(\"/storage/scraped_data\")\n",
    "\n",
    "def wait_for(job_id, every=2):\n",
    "    while True:\n",
    "        rec = requests.get(f\"{EP}/jobs/{job_id}\").json()\n",
    "        if not rec[\"status\"] in {\"finished\", \"error\"}:\n",
    "            print(\"\\r\" + rec[\"status_with_elapsed\"], end=\"\")\n",
    "        else:\n",
    "            print(\"\\n\" + rec[\"status\"])\n",
    "            return rec\n",
    "        time.sleep(every)\n",
    "\n",
    "def submit(task, payload):\n",
    "    r = requests.post(f\"{EP}/jobs/{task}\", json=payload)\n",
    "    r.raise_for_status()\n",
    "    jid = r.json()[\"job_id\"]\n",
    "    print(\"🆔\", task, \"job:\", jid)\n",
    "    return wait_for(jid)"
   ]
  },
  {
   "cell_type": "code",
   "execution_count": null,
   "id": "009057c8-2727-4744-86a8-e9b8ff43c9ed",
   "metadata": {},
   "outputs": [],
   "source": [
    "# #  single dataset\n",
    "# res = submit(\"saudi-open-data\", {\"dataset_id\": \"18887141-a088-4167-9aef-177791adb412\"})\n",
    "# print(\"\\n\\n\\n\")\n",
    "# pprint.pp(res)"
   ]
  },
  {
   "cell_type": "code",
   "execution_count": null,
   "id": "cb4b108a-8e24-4ba7-b8d1-9efe7fd1d9ba",
   "metadata": {},
   "outputs": [],
   "source": [
    "# #  first 500 datasets of a publisher (range)\n",
    "# pub_id = \"694ebd35-2ea6-4f1d-84b6-2ea875159b95\"\n",
    "# range_demo = {\"publisher_id\": pub_id, \"dataset_range\": [1, 500]}\n",
    "# res2a = submit(\"saudi-open-data\", range_demo)\n",
    "# pprint.pp(res2a)"
   ]
  },
  {
   "cell_type": "code",
   "execution_count": null,
   "id": "0ac1746e-97da-4357-ae0e-906943132c87",
   "metadata": {},
   "outputs": [],
   "source": [
    "# # all the publisher data, no range\n",
    "# pub_id = \"694ebd35-2ea6-4f1d-84b6-2ea875159b95\"\n",
    "# range_demo = {\"publisher_id\": pub_id, \"dataset_range\": [1, 500]}\n",
    "# res2a = submit(\"saudi-open-data\", range_demo)\n",
    "# pprint.pp(res2a)"
   ]
  }
 ],
 "metadata": {
  "kernelspec": {
   "display_name": "Python 3 (ipykernel)",
   "language": "python",
   "name": "python3"
  },
  "language_info": {
   "codemirror_mode": {
    "name": "ipython",
    "version": 3
   },
   "file_extension": ".py",
   "mimetype": "text/x-python",
   "name": "python",
   "nbconvert_exporter": "python",
   "pygments_lexer": "ipython3",
   "version": "3.11.13"
  }
 },
 "nbformat": 4,
 "nbformat_minor": 5
}
