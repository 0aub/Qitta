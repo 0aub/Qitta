{
 "cells": [
  {
   "cell_type": "code",
   "execution_count": 19,
   "id": "2e8a7e11-7db3-4a51-b760-658d66cca80f",
   "metadata": {},
   "outputs": [],
   "source": [
    "import os, time, pathlib, pprint, requests\n",
    "\n",
    "EP       = os.getenv(\"BROWSER_ENDPOINT\", \"http://browser:8004\")\n",
    "SCRAPED  = pathlib.Path(\"/storage/scraped_data\")\n",
    "\n",
    "def wait_for(job_id, every=2):\n",
    "    while True:\n",
    "        rec = requests.get(f\"{EP}/jobs/{job_id}\").json()\n",
    "        if not rec[\"status\"] in {\"finished\", \"error\"}:\n",
    "            print(\"\\r\" + rec[\"status_with_elapsed\"], end=\"\")\n",
    "        else:\n",
    "            print(\"\\n\" + rec[\"status\"])\n",
    "            return rec\n",
    "        time.sleep(every)\n",
    "\n",
    "def submit(task, payload):\n",
    "    r = requests.post(f\"{EP}/jobs/{task}\", json=payload)\n",
    "    r.raise_for_status()\n",
    "    jid = r.json()[\"job_id\"]\n",
    "    print(\"🆔\", task, \"job:\", jid)\n",
    "    return wait_for(jid)"
   ]
  },
  {
   "cell_type": "code",
   "execution_count": 20,
   "id": "009057c8-2727-4744-86a8-e9b8ff43c9ed",
   "metadata": {},
   "outputs": [],
   "source": [
    "# #  single dataset\n",
    "# res = submit(\"saudi-open-data\", {\"dataset_id\": \"18887141-a088-4167-9aef-177791adb412\"})\n",
    "# print(\"\\n\\n\\n\")\n",
    "# pprint.pp(res)"
   ]
  },
  {
   "cell_type": "code",
   "execution_count": 21,
   "id": "0ac1746e-97da-4357-ae0e-906943132c87",
   "metadata": {},
   "outputs": [],
   "source": [
    "# # all the publisher data, no range\n",
    "# pub_id = \"694ebd35-2ea6-4f1d-84b6-2ea875159b95\"\n",
    "# range_demo = {\"publisher_id\": pub_id, \"dataset_range\": [1, 500]}\n",
    "# res2a = submit(\"saudi-open-data\", range_demo)\n",
    "# pprint.pp(res2a)"
   ]
  },
  {
   "cell_type": "code",
   "execution_count": 22,
   "id": "4caefcc1",
   "metadata": {},
   "outputs": [
    {
     "name": "stdout",
     "output_type": "stream",
     "text": [
      "🆔 saudi-open-data job: 0ee9855d7632446fb28f4579551d9d29\n",
      "running 2h 2mms\n",
      "finished\n",
      "{'job_id': '0ee9855d7632446fb28f4579551d9d29',\n",
      " 'task_name': 'saudi-open-data',\n",
      " 'params': {'publisher_id': '694ebd35-2ea6-4f1d-84b6-2ea875159b95'},\n",
      " 'status': 'finished',\n",
      " 'created_at': '2025-08-18T20:24:45.179135',\n",
      " 'started_at': '2025-08-18T20:24:45.179344',\n",
      " 'finished_at': '2025-08-18T22:27:09.733667',\n",
      " 'result': {'publisher_id': '694ebd35-2ea6-4f1d-84b6-2ea875159b95',\n",
      "            'status': 'success',\n",
      "            'total_datasets': 1027,\n",
      "            'datasets_succeeded': 1027,\n",
      "            'datasets_failed': 0,\n",
      "            'total_files_ok': 1377,\n",
      "            'total_files_failed': 9,\n",
      "            'details_file': 'publisher_results.json',\n",
      "            'organization_metadata_file': 'organization_metadata.json'},\n",
      " 'error': None,\n",
      " 'status_with_elapsed': 'finished'}\n"
     ]
    }
   ],
   "source": [
    "range_demo = {\"publisher_id\": \"694ebd35-2ea6-4f1d-84b6-2ea875159b95\"}\n",
    "pprint.pp(submit(\"saudi-open-data\", range_demo))"
   ]
  },
  {
   "cell_type": "code",
   "execution_count": 23,
   "id": "c26096db",
   "metadata": {},
   "outputs": [
    {
     "name": "stdout",
     "output_type": "stream",
     "text": [
      "🆔 saudi-open-data job: 54d91078c2f448f0b85be6b21b5a8a61\n",
      "running 1m 8s\n",
      "finished\n",
      "{'job_id': '54d91078c2f448f0b85be6b21b5a8a61',\n",
      " 'task_name': 'saudi-open-data',\n",
      " 'params': {'publisher_id': '3181a11d-14a4-4a9c-93c7-5669b2205e08'},\n",
      " 'status': 'finished',\n",
      " 'created_at': '2025-08-18T22:27:10.896876',\n",
      " 'started_at': '2025-08-18T22:27:10.897068',\n",
      " 'finished_at': '2025-08-18T22:28:19.868461',\n",
      " 'result': {'publisher_id': '3181a11d-14a4-4a9c-93c7-5669b2205e08',\n",
      "            'status': 'success',\n",
      "            'total_datasets': 11,\n",
      "            'datasets_succeeded': 11,\n",
      "            'datasets_failed': 0,\n",
      "            'total_files_ok': 28,\n",
      "            'total_files_failed': 0,\n",
      "            'details_file': 'publisher_results.json',\n",
      "            'organization_metadata_file': 'organization_metadata.json'},\n",
      " 'error': None,\n",
      " 'status_with_elapsed': 'finished'}\n"
     ]
    }
   ],
   "source": [
    "range_demo = {\"publisher_id\": \"3181a11d-14a4-4a9c-93c7-5669b2205e08\"}\n",
    "pprint.pp(submit(\"saudi-open-data\", range_demo))"
   ]
  },
  {
   "cell_type": "code",
   "execution_count": 24,
   "id": "1161a3b0",
   "metadata": {},
   "outputs": [
    {
     "name": "stdout",
     "output_type": "stream",
     "text": [
      "🆔 saudi-open-data job: ee2426e10269486a875090ed648d2ae7\n",
      "running 54s\n",
      "finished\n",
      "{'job_id': 'ee2426e10269486a875090ed648d2ae7',\n",
      " 'task_name': 'saudi-open-data',\n",
      " 'params': {'publisher_id': 'b39db5e4-dd11-46c2-8fe9-a436e9b21b3d'},\n",
      " 'status': 'finished',\n",
      " 'created_at': '2025-08-18T22:28:20.999101',\n",
      " 'started_at': '2025-08-18T22:28:20.999310',\n",
      " 'finished_at': '2025-08-18T22:29:15.179103',\n",
      " 'result': {'publisher_id': 'b39db5e4-dd11-46c2-8fe9-a436e9b21b3d',\n",
      "            'status': 'success',\n",
      "            'total_datasets': 7,\n",
      "            'datasets_succeeded': 7,\n",
      "            'datasets_failed': 0,\n",
      "            'total_files_ok': 16,\n",
      "            'total_files_failed': 0,\n",
      "            'details_file': 'publisher_results.json',\n",
      "            'organization_metadata_file': 'organization_metadata.json'},\n",
      " 'error': None,\n",
      " 'status_with_elapsed': 'finished'}\n"
     ]
    }
   ],
   "source": [
    "range_demo = {\"publisher_id\": \"b39db5e4-dd11-46c2-8fe9-a436e9b21b3d\"}\n",
    "pprint.pp(submit(\"saudi-open-data\", range_demo))"
   ]
  },
  {
   "cell_type": "code",
   "execution_count": 25,
   "id": "ea2f20dc",
   "metadata": {},
   "outputs": [
    {
     "name": "stdout",
     "output_type": "stream",
     "text": [
      "🆔 saudi-open-data job: b000e8f2662b416f9d73556fd9010558\n",
      "running 16s\n",
      "finished\n",
      "{'job_id': 'b000e8f2662b416f9d73556fd9010558',\n",
      " 'task_name': 'saudi-open-data',\n",
      " 'params': {'publisher_id': '11303c55-3673-4283-9930-f5051eec2b2a'},\n",
      " 'status': 'finished',\n",
      " 'created_at': '2025-08-18T22:29:17.084576',\n",
      " 'started_at': '2025-08-18T22:29:17.084778',\n",
      " 'finished_at': '2025-08-18T22:29:34.038300',\n",
      " 'result': {'publisher_id': '11303c55-3673-4283-9930-f5051eec2b2a',\n",
      "            'status': 'success',\n",
      "            'total_datasets': 4,\n",
      "            'datasets_succeeded': 4,\n",
      "            'datasets_failed': 0,\n",
      "            'total_files_ok': 8,\n",
      "            'total_files_failed': 0,\n",
      "            'details_file': 'publisher_results.json',\n",
      "            'organization_metadata_file': 'organization_metadata.json'},\n",
      " 'error': None,\n",
      " 'status_with_elapsed': 'finished'}\n"
     ]
    }
   ],
   "source": [
    "range_demo = {\"publisher_id\": \"11303c55-3673-4283-9930-f5051eec2b2a\"}\n",
    "pprint.pp(submit(\"saudi-open-data\", range_demo))"
   ]
  },
  {
   "cell_type": "code",
   "execution_count": 26,
   "id": "13355a31",
   "metadata": {},
   "outputs": [
    {
     "name": "stdout",
     "output_type": "stream",
     "text": [
      "🆔 saudi-open-data job: 7abe510bfb2c4db5823cb7e515141c7a\n",
      "running 30s\n",
      "finished\n",
      "{'job_id': '7abe510bfb2c4db5823cb7e515141c7a',\n",
      " 'task_name': 'saudi-open-data',\n",
      " 'params': {'publisher_id': '96cc49ce-1074-4ae3-a429-e00e76dabdbb'},\n",
      " 'status': 'finished',\n",
      " 'created_at': '2025-08-18T22:29:35.161160',\n",
      " 'started_at': '2025-08-18T22:29:35.161378',\n",
      " 'finished_at': '2025-08-18T22:30:06.451551',\n",
      " 'result': {'publisher_id': '96cc49ce-1074-4ae3-a429-e00e76dabdbb',\n",
      "            'status': 'success',\n",
      "            'total_datasets': 6,\n",
      "            'datasets_succeeded': 6,\n",
      "            'datasets_failed': 0,\n",
      "            'total_files_ok': 12,\n",
      "            'total_files_failed': 0,\n",
      "            'details_file': 'publisher_results.json',\n",
      "            'organization_metadata_file': 'organization_metadata.json'},\n",
      " 'error': None,\n",
      " 'status_with_elapsed': 'finished'}\n"
     ]
    }
   ],
   "source": [
    "range_demo = {\"publisher_id\": \"96cc49ce-1074-4ae3-a429-e00e76dabdbb\"}\n",
    "pprint.pp(submit(\"saudi-open-data\", range_demo))"
   ]
  },
  {
   "cell_type": "code",
   "execution_count": 27,
   "id": "408b04e6",
   "metadata": {},
   "outputs": [
    {
     "name": "stdout",
     "output_type": "stream",
     "text": [
      "🆔 saudi-open-data job: 3d57a39fbb9f4efca153556aeb0dcce4\n",
      "running 8m 36s\n",
      "finished\n",
      "{'job_id': '3d57a39fbb9f4efca153556aeb0dcce4',\n",
      " 'task_name': 'saudi-open-data',\n",
      " 'params': {'publisher_id': '69b07598-8502-4003-b284-ccd2f3bf0f59'},\n",
      " 'status': 'finished',\n",
      " 'created_at': '2025-08-18T22:30:07.213090',\n",
      " 'started_at': '2025-08-18T22:30:07.213314',\n",
      " 'finished_at': '2025-08-18T22:38:45.541221',\n",
      " 'result': {'publisher_id': '69b07598-8502-4003-b284-ccd2f3bf0f59',\n",
      "            'status': 'success',\n",
      "            'total_datasets': 68,\n",
      "            'datasets_succeeded': 68,\n",
      "            'datasets_failed': 0,\n",
      "            'total_files_ok': 238,\n",
      "            'total_files_failed': 0,\n",
      "            'details_file': 'publisher_results.json',\n",
      "            'organization_metadata_file': 'organization_metadata.json'},\n",
      " 'error': None,\n",
      " 'status_with_elapsed': 'finished'}\n"
     ]
    }
   ],
   "source": [
    "range_demo = {\"publisher_id\": \"69b07598-8502-4003-b284-ccd2f3bf0f59\"}\n",
    "pprint.pp(submit(\"saudi-open-data\", range_demo))"
   ]
  },
  {
   "cell_type": "code",
   "execution_count": 28,
   "id": "b5bb8676",
   "metadata": {},
   "outputs": [
    {
     "name": "stdout",
     "output_type": "stream",
     "text": [
      "🆔 saudi-open-data job: 97d5e25d4d614369afd26bc22d75a990\n",
      "running 52s\n",
      "finished\n",
      "{'job_id': '97d5e25d4d614369afd26bc22d75a990',\n",
      " 'task_name': 'saudi-open-data',\n",
      " 'params': {'publisher_id': '89b405e5-8b83-4fc1-a229-69c5e2f1f888'},\n",
      " 'status': 'finished',\n",
      " 'created_at': '2025-08-18T22:38:45.913572',\n",
      " 'started_at': '2025-08-18T22:38:45.913778',\n",
      " 'finished_at': '2025-08-18T22:39:38.992447',\n",
      " 'result': {'publisher_id': '89b405e5-8b83-4fc1-a229-69c5e2f1f888',\n",
      "            'status': 'success',\n",
      "            'total_datasets': 11,\n",
      "            'datasets_succeeded': 11,\n",
      "            'datasets_failed': 0,\n",
      "            'total_files_ok': 22,\n",
      "            'total_files_failed': 0,\n",
      "            'details_file': 'publisher_results.json',\n",
      "            'organization_metadata_file': 'organization_metadata.json'},\n",
      " 'error': None,\n",
      " 'status_with_elapsed': 'finished'}\n"
     ]
    }
   ],
   "source": [
    "range_demo = {\"publisher_id\": \"89b405e5-8b83-4fc1-a229-69c5e2f1f888\"}\n",
    "pprint.pp(submit(\"saudi-open-data\", range_demo))"
   ]
  },
  {
   "cell_type": "code",
   "execution_count": 29,
   "id": "c8c4cb32",
   "metadata": {},
   "outputs": [
    {
     "name": "stdout",
     "output_type": "stream",
     "text": [
      "🆔 saudi-open-data job: 2d6f6dcd584445f394ca30263b019cfd\n",
      "running 30s\n",
      "finished\n",
      "{'job_id': '2d6f6dcd584445f394ca30263b019cfd',\n",
      " 'task_name': 'saudi-open-data',\n",
      " 'params': {'publisher_id': '91e2baab-2d29-4f47-8791-bb7ddceea273'},\n",
      " 'status': 'finished',\n",
      " 'created_at': '2025-08-18T22:39:39.994866',\n",
      " 'started_at': '2025-08-18T22:39:39.995048',\n",
      " 'finished_at': '2025-08-18T22:40:10.759741',\n",
      " 'result': {'publisher_id': '91e2baab-2d29-4f47-8791-bb7ddceea273',\n",
      "            'status': 'success',\n",
      "            'total_datasets': 7,\n",
      "            'datasets_succeeded': 7,\n",
      "            'datasets_failed': 0,\n",
      "            'total_files_ok': 14,\n",
      "            'total_files_failed': 0,\n",
      "            'details_file': 'publisher_results.json',\n",
      "            'organization_metadata_file': 'organization_metadata.json'},\n",
      " 'error': None,\n",
      " 'status_with_elapsed': 'finished'}\n"
     ]
    }
   ],
   "source": [
    "range_demo = {\"publisher_id\": \"91e2baab-2d29-4f47-8791-bb7ddceea273\"}\n",
    "pprint.pp(submit(\"saudi-open-data\", range_demo))"
   ]
  },
  {
   "cell_type": "code",
   "execution_count": 30,
   "id": "6628ebdf",
   "metadata": {},
   "outputs": [
    {
     "name": "stdout",
     "output_type": "stream",
     "text": [
      "🆔 saudi-open-data job: 6579e0e4d85045baaa3e372155813a6a\n",
      "running 14s\n",
      "finished\n",
      "{'job_id': '6579e0e4d85045baaa3e372155813a6a',\n",
      " 'task_name': 'saudi-open-data',\n",
      " 'params': {'publisher_id': '8a5a23f7-9f8f-4e95-8f04-cd2f79a83228'},\n",
      " 'status': 'finished',\n",
      " 'created_at': '2025-08-18T22:40:12.048611',\n",
      " 'started_at': '2025-08-18T22:40:12.048803',\n",
      " 'finished_at': '2025-08-18T22:40:26.737173',\n",
      " 'result': {'publisher_id': '8a5a23f7-9f8f-4e95-8f04-cd2f79a83228',\n",
      "            'status': 'success',\n",
      "            'total_datasets': 4,\n",
      "            'datasets_succeeded': 4,\n",
      "            'datasets_failed': 0,\n",
      "            'total_files_ok': 8,\n",
      "            'total_files_failed': 0,\n",
      "            'details_file': 'publisher_results.json',\n",
      "            'organization_metadata_file': 'organization_metadata.json'},\n",
      " 'error': None,\n",
      " 'status_with_elapsed': 'finished'}\n"
     ]
    }
   ],
   "source": [
    "range_demo = {\"publisher_id\": \"8a5a23f7-9f8f-4e95-8f04-cd2f79a83228\"}\n",
    "pprint.pp(submit(\"saudi-open-data\", range_demo))"
   ]
  },
  {
   "cell_type": "code",
   "execution_count": 31,
   "id": "59342fa3",
   "metadata": {},
   "outputs": [
    {
     "name": "stdout",
     "output_type": "stream",
     "text": [
      "🆔 saudi-open-data job: b4c51f4641ea408ea478ad9366ce6b52\n",
      "running 14s\n",
      "finished\n",
      "{'job_id': 'b4c51f4641ea408ea478ad9366ce6b52',\n",
      " 'task_name': 'saudi-open-data',\n",
      " 'params': {'publisher_id': '16999930-bd31-4e3d-8df1-937799a75b28'},\n",
      " 'status': 'finished',\n",
      " 'created_at': '2025-08-18T22:40:28.080727',\n",
      " 'started_at': '2025-08-18T22:40:28.081562',\n",
      " 'finished_at': '2025-08-18T22:40:43.821707',\n",
      " 'result': {'publisher_id': '16999930-bd31-4e3d-8df1-937799a75b28',\n",
      "            'status': 'success',\n",
      "            'total_datasets': 3,\n",
      "            'datasets_succeeded': 3,\n",
      "            'datasets_failed': 0,\n",
      "            'total_files_ok': 6,\n",
      "            'total_files_failed': 0,\n",
      "            'details_file': 'publisher_results.json',\n",
      "            'organization_metadata_file': 'organization_metadata.json'},\n",
      " 'error': None,\n",
      " 'status_with_elapsed': 'finished'}\n"
     ]
    }
   ],
   "source": [
    "range_demo = {\"publisher_id\": \"16999930-bd31-4e3d-8df1-937799a75b28\"}\n",
    "pprint.pp(submit(\"saudi-open-data\", range_demo))"
   ]
  },
  {
   "cell_type": "code",
   "execution_count": 32,
   "id": "2a00ceac",
   "metadata": {},
   "outputs": [
    {
     "name": "stdout",
     "output_type": "stream",
     "text": [
      "🆔 saudi-open-data job: c12488e3a9a24a64913a0bc7093a4afa\n",
      "running 6s\n",
      "finished\n",
      "{'job_id': 'c12488e3a9a24a64913a0bc7093a4afa',\n",
      " 'task_name': 'saudi-open-data',\n",
      " 'params': {'publisher_id': 'd81c49f1-5f16-47cd-8c6d-7a921840ecc8'},\n",
      " 'status': 'finished',\n",
      " 'created_at': '2025-08-18T22:40:44.114409',\n",
      " 'started_at': '2025-08-18T22:40:44.114627',\n",
      " 'finished_at': '2025-08-18T22:40:51.765837',\n",
      " 'result': {'publisher_id': 'd81c49f1-5f16-47cd-8c6d-7a921840ecc8',\n",
      "            'status': 'success',\n",
      "            'total_datasets': 1,\n",
      "            'datasets_succeeded': 1,\n",
      "            'datasets_failed': 0,\n",
      "            'total_files_ok': 2,\n",
      "            'total_files_failed': 0,\n",
      "            'details_file': 'publisher_results.json',\n",
      "            'organization_metadata_file': 'organization_metadata.json'},\n",
      " 'error': None,\n",
      " 'status_with_elapsed': 'finished'}\n"
     ]
    }
   ],
   "source": [
    "range_demo = {\"publisher_id\": \"d81c49f1-5f16-47cd-8c6d-7a921840ecc8\"}\n",
    "pprint.pp(submit(\"saudi-open-data\", range_demo))"
   ]
  },
  {
   "cell_type": "code",
   "execution_count": 33,
   "id": "cb561f81",
   "metadata": {},
   "outputs": [
    {
     "name": "stdout",
     "output_type": "stream",
     "text": [
      "🆔 saudi-open-data job: c362dc9c0ebf41999c77c37f1c0564fb\n",
      "running 17m 49s\n",
      "finished\n",
      "{'job_id': 'c362dc9c0ebf41999c77c37f1c0564fb',\n",
      " 'task_name': 'saudi-open-data',\n",
      " 'params': {'publisher_id': '2d5b6db6-caaa-416d-ae1f-c91400e68ed8'},\n",
      " 'status': 'finished',\n",
      " 'created_at': '2025-08-18T22:40:52.136585',\n",
      " 'started_at': '2025-08-18T22:40:52.136780',\n",
      " 'finished_at': '2025-08-18T22:58:42.514490',\n",
      " 'result': {'publisher_id': '2d5b6db6-caaa-416d-ae1f-c91400e68ed8',\n",
      "            'status': 'success',\n",
      "            'total_datasets': 181,\n",
      "            'datasets_succeeded': 181,\n",
      "            'datasets_failed': 0,\n",
      "            'total_files_ok': 181,\n",
      "            'total_files_failed': 0,\n",
      "            'details_file': 'publisher_results.json',\n",
      "            'organization_metadata_file': 'organization_metadata.json'},\n",
      " 'error': None,\n",
      " 'status_with_elapsed': 'finished'}\n"
     ]
    }
   ],
   "source": [
    "range_demo = {\"publisher_id\": \"2d5b6db6-caaa-416d-ae1f-c91400e68ed8\"}\n",
    "pprint.pp(submit(\"saudi-open-data\", range_demo))"
   ]
  },
  {
   "cell_type": "code",
   "execution_count": 34,
   "id": "6d6b367c",
   "metadata": {},
   "outputs": [
    {
     "name": "stdout",
     "output_type": "stream",
     "text": [
      "🆔 saudi-open-data job: fda5f3cb42a843f7bd9c8e75e7887c60\n",
      "running 5m 48s\n",
      "finished\n",
      "{'job_id': 'fda5f3cb42a843f7bd9c8e75e7887c60',\n",
      " 'task_name': 'saudi-open-data',\n",
      " 'params': {'publisher_id': '156cd4a0-3fa2-4e2b-b9af-c1b35fdf9962'},\n",
      " 'status': 'finished',\n",
      " 'created_at': '2025-08-18T22:58:43.646207',\n",
      " 'started_at': '2025-08-18T22:58:43.646399',\n",
      " 'finished_at': '2025-08-18T23:04:32.570701',\n",
      " 'result': {'publisher_id': '156cd4a0-3fa2-4e2b-b9af-c1b35fdf9962',\n",
      "            'status': 'success',\n",
      "            'total_datasets': 47,\n",
      "            'datasets_succeeded': 47,\n",
      "            'datasets_failed': 0,\n",
      "            'total_files_ok': 61,\n",
      "            'total_files_failed': 0,\n",
      "            'details_file': 'publisher_results.json',\n",
      "            'organization_metadata_file': 'organization_metadata.json'},\n",
      " 'error': None,\n",
      " 'status_with_elapsed': 'finished'}\n"
     ]
    }
   ],
   "source": [
    "range_demo = {\"publisher_id\": \"156cd4a0-3fa2-4e2b-b9af-c1b35fdf9962\"}\n",
    "pprint.pp(submit(\"saudi-open-data\", range_demo))"
   ]
  },
  {
   "cell_type": "code",
   "execution_count": 35,
   "id": "84d3778a",
   "metadata": {},
   "outputs": [
    {
     "name": "stdout",
     "output_type": "stream",
     "text": [
      "🆔 saudi-open-data job: 41dc258e539e46e5ba82a36675efe713\n",
      "running 14m 45s\n",
      "finished\n",
      "{'job_id': '41dc258e539e46e5ba82a36675efe713',\n",
      " 'task_name': 'saudi-open-data',\n",
      " 'params': {'publisher_id': '34a5b638-71b4-4cc9-ae56-28583334ec77'},\n",
      " 'status': 'finished',\n",
      " 'created_at': '2025-08-18T23:04:34.189604',\n",
      " 'started_at': '2025-08-18T23:04:34.189811',\n",
      " 'finished_at': '2025-08-18T23:19:20.192212',\n",
      " 'result': {'publisher_id': '34a5b638-71b4-4cc9-ae56-28583334ec77',\n",
      "            'status': 'success',\n",
      "            'total_datasets': 30,\n",
      "            'datasets_succeeded': 30,\n",
      "            'datasets_failed': 0,\n",
      "            'total_files_ok': 60,\n",
      "            'total_files_failed': 0,\n",
      "            'details_file': 'publisher_results.json',\n",
      "            'organization_metadata_file': 'organization_metadata.json'},\n",
      " 'error': None,\n",
      " 'status_with_elapsed': 'finished'}\n"
     ]
    }
   ],
   "source": [
    "range_demo = {\"publisher_id\": \"34a5b638-71b4-4cc9-ae56-28583334ec77\"}\n",
    "pprint.pp(submit(\"saudi-open-data\", range_demo))"
   ]
  }
 ],
 "metadata": {
  "kernelspec": {
   "display_name": "Python 3 (ipykernel)",
   "language": "python",
   "name": "python3"
  },
  "language_info": {
   "codemirror_mode": {
    "name": "ipython",
    "version": 3
   },
   "file_extension": ".py",
   "mimetype": "text/x-python",
   "name": "python",
   "nbconvert_exporter": "python",
   "pygments_lexer": "ipython3",
   "version": "3.11.13"
  }
 },
 "nbformat": 4,
 "nbformat_minor": 5
}
