{
 "cells": [
  {
   "cell_type": "code",
   "execution_count": 1,
   "id": "2e8a7e11-7db3-4a51-b760-658d66cca80f",
   "metadata": {},
   "outputs": [],
   "source": [
    "import os, time, json, pathlib, pprint, requests\n",
    "\n",
    "EP       = os.getenv(\"BROWSER_ENDPOINT\", \"http://browser:8004\")\n",
    "SCRAPED  = pathlib.Path(\"/storage/scraped_data\")\n",
    "\n",
    "def wait_for(job_id, every=2):\n",
    "    while True:\n",
    "        rec = requests.get(f\"{EP}/jobs/{job_id}\").json()\n",
    "        if not rec[\"status\"] in {\"finished\", \"error\"}:\n",
    "            print(\"\\r\" + rec[\"status_with_elapsed\"], end=\"\")\n",
    "        else:\n",
    "            print(\"\\n\" + rec[\"status\"])\n",
    "            return rec\n",
    "        time.sleep(every)\n",
    "\n",
    "def submit(task, payload):\n",
    "    r = requests.post(f\"{EP}/jobs/{task}\", json=payload)\n",
    "    r.raise_for_status()\n",
    "    jid = r.json()[\"job_id\"]\n",
    "    print(\"🆔\", task, \"job:\", jid)\n",
    "    return wait_for(jid)"
   ]
  },
  {
   "cell_type": "code",
   "execution_count": 2,
   "id": "009057c8-2727-4744-86a8-e9b8ff43c9ed",
   "metadata": {},
   "outputs": [
    {
     "name": "stdout",
     "output_type": "stream",
     "text": [
      "🆔 saudi-open-data job: d137fb44a5534a62a91f1e804d078ee2\n",
      "running 4s\n",
      "finished\n",
      "\n",
      "\n",
      "\n",
      "\n",
      "{'job_id': 'd137fb44a5534a62a91f1e804d078ee2',\n",
      " 'task_name': 'saudi-open-data',\n",
      " 'params': {'dataset_id': '18887141-a088-4167-9aef-177791adb412'},\n",
      " 'status': 'finished',\n",
      " 'created_at': '2025-08-12T19:16:21.107718',\n",
      " 'started_at': '2025-08-12T19:16:21.107944',\n",
      " 'finished_at': '2025-08-12T19:16:26.324560',\n",
      " 'result': {'dataset_id': '18887141-a088-4167-9aef-177791adb412',\n",
      "            'dataset_title': None,\n",
      "            'dataset_url': 'https://open.data.gov.sa/en/datasets/view/18887141-a088-4167-9aef-177791adb412/resources',\n",
      "            'total_resources': 2,\n",
      "            'downloaded': 2,\n",
      "            'failed': 0,\n",
      "            'resources_json': 'resources.json',\n",
      "            'downloads_json': 'downloads.json',\n",
      "            'files_sample': [{'status': 'ok',\n",
      "                              'via': 'ctx(v1)',\n",
      "                              'url': 'https://open.data.gov.sa/data/api/v1/datasets/18887141-a088-4167-9aef-177791adb412/resources/a1be18f2-7c14-4e0c-9949-619026a8f32e/download',\n",
      "                              'path': 'xlsx.xlsx',\n",
      "                              'size': 10221,\n",
      "                              'sha256': '3cce23453e93fdbca840763db3424a212c259f6a2764b23ae193d025a67c5ead',\n",
      "                              'resource_name': 'Statement on the Ministry '\n",
      "                                               'budget  2024'},\n",
      "                             {'status': 'ok',\n",
      "                              'via': 'ctx(v1)',\n",
      "                              'url': 'https://open.data.gov.sa/data/api/v1/datasets/18887141-a088-4167-9aef-177791adb412/resources/b12de4b7-d3b0-4530-8a3c-bfc2947cdba2/download',\n",
      "                              'path': 'csv.csv',\n",
      "                              'size': 579,\n",
      "                              'sha256': '3139096f545f9703ff23d04cc1b0fb0b15e3a4533c069477443fcc0dd587b87f',\n",
      "                              'resource_name': 'Statement on the Ministry '\n",
      "                                               'budget  2024 CSV'}]},\n",
      " 'error': None,\n",
      " 'status_with_elapsed': 'finished'}\n"
     ]
    }
   ],
   "source": [
    "res = submit(\"saudi-open-data\", {\"dataset_id\": \"18887141-a088-4167-9aef-177791adb412\"})\n",
    "print(\"\\n\\n\\n\")\n",
    "pprint.pp(res)"
   ]
  },
  {
   "cell_type": "code",
   "execution_count": 3,
   "id": "cb4b108a-8e24-4ba7-b8d1-9efe7fd1d9ba",
   "metadata": {},
   "outputs": [
    {
     "name": "stdout",
     "output_type": "stream",
     "text": [
      "🆔 saudi-open-data job: d712e7ab8f99499395f35d10f5437505\n",
      "running 44m 31s\n",
      "finished\n",
      "{'job_id': 'd712e7ab8f99499395f35d10f5437505',\n",
      " 'task_name': 'saudi-open-data',\n",
      " 'params': {'publisher_id': '694ebd35-2ea6-4f1d-84b6-2ea875159b95',\n",
      "            'dataset_range': [1, 500]},\n",
      " 'status': 'finished',\n",
      " 'created_at': '2025-08-12T19:16:27.125826',\n",
      " 'started_at': '2025-08-12T19:16:27.126009',\n",
      " 'finished_at': '2025-08-12T20:00:58.942562',\n",
      " 'result': {'publisher_id': '694ebd35-2ea6-4f1d-84b6-2ea875159b95',\n",
      "            'total_datasets': 500,\n",
      "            'datasets_succeeded': 498,\n",
      "            'datasets_partial': 1,\n",
      "            'datasets_failed': 1,\n",
      "            'total_files_ok': 677,\n",
      "            'total_files_failed': 3,\n",
      "            'details_file': 'publisher_results.json',\n",
      "            'datasets_complete': 498},\n",
      " 'error': None,\n",
      " 'status_with_elapsed': 'finished'}\n"
     ]
    }
   ],
   "source": [
    "# 2a) first 5 datasets of a publisher (range)\n",
    "pub_id = \"694ebd35-2ea6-4f1d-84b6-2ea875159b95\"\n",
    "range_demo = {\"publisher_id\": pub_id, \"dataset_range\": [1, 500]}\n",
    "res2a = submit(\"saudi-open-data\", range_demo)\n",
    "pprint.pp(res2a)"
   ]
  },
  {
   "cell_type": "code",
   "execution_count": 6,
   "id": "0ac1746e-97da-4357-ae0e-906943132c87",
   "metadata": {},
   "outputs": [
    {
     "name": "stdout",
     "output_type": "stream",
     "text": [
      "🆔 saudi-open-data job: 84bc2639c7fd4a4eb74f8152748bec91\n",
      "running 1h 31ms\n",
      "finished\n",
      "{'job_id': '84bc2639c7fd4a4eb74f8152748bec91',\n",
      " 'task_name': 'saudi-open-data',\n",
      " 'params': {'publisher_id': '694ebd35-2ea6-4f1d-84b6-2ea875159b95'},\n",
      " 'status': 'finished',\n",
      " 'created_at': '2025-08-12T20:01:00.951446',\n",
      " 'started_at': '2025-08-12T20:01:00.951840',\n",
      " 'finished_at': '2025-08-12T21:32:15.691041',\n",
      " 'result': {'publisher_id': '694ebd35-2ea6-4f1d-84b6-2ea875159b95',\n",
      "            'total_datasets': 1027,\n",
      "            'datasets_succeeded': 1025,\n",
      "            'datasets_partial': 2,\n",
      "            'datasets_failed': 0,\n",
      "            'total_files_ok': 1384,\n",
      "            'total_files_failed': 2,\n",
      "            'details_file': 'publisher_results.json',\n",
      "            'datasets_complete': 1025},\n",
      " 'error': None,\n",
      " 'status_with_elapsed': 'finished'}\n"
     ]
    }
   ],
   "source": [
    "# 2b) *all* datasets of that publisher\n",
    "all_demo = {\"publisher_id\": pub_id}      # no range / limit -> all\n",
    "res2b = submit(\"saudi-open-data\", all_demo)\n",
    "pprint.pp(res2b)"
   ]
  },
  {
   "cell_type": "code",
   "execution_count": 5,
   "id": "a090625d-b055-4b80-adfa-04a03b9a3837",
   "metadata": {},
   "outputs": [],
   "source": [
    "# # 3) full-site crawl of naama.sa (unbounded)\n",
    "# site_job = {\n",
    "#     \"url\": \"https://naama.sa\",\n",
    "#     \"delay_seconds\": [1, 2]   # be polite\n",
    "#     # no max_pages → crawl everything on naama.sa domain\n",
    "# }\n",
    "# res3 = submit(\"scrape-site\", site_job)\n",
    "# pprint.pp(res3)"
   ]
  }
 ],
 "metadata": {
  "kernelspec": {
   "display_name": "Python 3 (ipykernel)",
   "language": "python",
   "name": "python3"
  },
  "language_info": {
   "codemirror_mode": {
    "name": "ipython",
    "version": 3
   },
   "file_extension": ".py",
   "mimetype": "text/x-python",
   "name": "python",
   "nbconvert_exporter": "python",
   "pygments_lexer": "ipython3",
   "version": "3.11.13"
  }
 },
 "nbformat": 4,
 "nbformat_minor": 5
}
