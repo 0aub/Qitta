{
 "cells": [
  {
   "cell_type": "code",
   "execution_count": 1,
   "id": "2e8a7e11-7db3-4a51-b760-658d66cca80f",
   "metadata": {},
   "outputs": [],
   "source": [
    "import os, time, pathlib, pprint, requests\n",
    "\n",
    "EP       = os.getenv(\"BROWSER_ENDPOINT\", \"http://browser:8004\")\n",
    "SCRAPED  = pathlib.Path(\"/storage/scraped_data\")\n",
    "\n",
    "def wait_for(job_id, every=2):\n",
    "    while True:\n",
    "        rec = requests.get(f\"{EP}/jobs/{job_id}\").json()\n",
    "        if not rec[\"status\"] in {\"finished\", \"error\"}:\n",
    "            print(\"\\r\" + rec[\"status_with_elapsed\"], end=\"\")\n",
    "        else:\n",
    "            print(\"\\n\" + rec[\"status\"])\n",
    "            return rec\n",
    "        time.sleep(every)\n",
    "\n",
    "def submit(task, payload):\n",
    "    r = requests.post(f\"{EP}/jobs/{task}\", json=payload)\n",
    "    r.raise_for_status()\n",
    "    jid = r.json()[\"job_id\"]\n",
    "    print(\"🆔\", task, \"job:\", jid)\n",
    "    return wait_for(jid)"
   ]
  },
  {
   "cell_type": "code",
   "execution_count": 2,
   "id": "009057c8-2727-4744-86a8-e9b8ff43c9ed",
   "metadata": {},
   "outputs": [],
   "source": [
    "# res = submit(\"saudi-open-data\", {\"dataset_id\": \"18887141-a088-4167-9aef-177791adb412\"})\n",
    "# print(\"\\n\\n\\n\")\n",
    "# pprint.pp(res)"
   ]
  },
  {
   "cell_type": "code",
   "execution_count": 3,
   "id": "cb4b108a-8e24-4ba7-b8d1-9efe7fd1d9ba",
   "metadata": {},
   "outputs": [],
   "source": [
    "# # 2a) first 5 datasets of a publisher (range)\n",
    "# pub_id = \"694ebd35-2ea6-4f1d-84b6-2ea875159b95\"\n",
    "# range_demo = {\"publisher_id\": pub_id, \"dataset_range\": [1, 500]}\n",
    "# res2a = submit(\"saudi-open-data\", range_demo)\n",
    "# pprint.pp(res2a)"
   ]
  },
  {
   "cell_type": "code",
   "execution_count": 4,
   "id": "0ac1746e-97da-4357-ae0e-906943132c87",
   "metadata": {},
   "outputs": [],
   "source": [
    "# # 2b) *all* datasets of that publisher\n",
    "# all_demo = {\"publisher_id\": pub_id}      # no range / limit -> all\n",
    "# res2b = submit(\"saudi-open-data\", all_demo)\n",
    "# pprint.pp(res2b)"
   ]
  },
  {
   "cell_type": "code",
   "execution_count": 5,
   "id": "0b7daeb5",
   "metadata": {},
   "outputs": [
    {
     "name": "stdout",
     "output_type": "stream",
     "text": [
      "🆔 github-repo job: c31b09426a7447329089be3e300162d6\n",
      "running 16s\n",
      "finished\n",
      "GitHub repo (code only):\n",
      "{'job_id': 'c31b09426a7447329089be3e300162d6',\n",
      " 'task_name': 'github-repo',\n",
      " 'params': {'repo_url': 'https://github.com/0aub/Qitta',\n",
      "            'include_issues': False,\n",
      "            'include_releases': False,\n",
      "            'max_files': 100},\n",
      " 'status': 'finished',\n",
      " 'created_at': '2025-08-16T08:40:46.959744',\n",
      " 'started_at': '2025-08-16T08:40:46.959982',\n",
      " 'finished_at': '2025-08-16T08:41:04.070417',\n",
      " 'result': {'repository_url': 'https://github.com/0aub/Qitta',\n",
      "            'owner': '0aub',\n",
      "            'repo_name': 'qitta',\n",
      "            'files_collected': 36,\n",
      "            'issues_collected': 0,\n",
      "            'releases_collected': 0,\n",
      "            'total_code_size': 184966,\n",
      "            'vector_items': 36,\n",
      "            'output_files': {'complete': 'repository_complete.json',\n",
      "                             'metadata': 'metadata.json',\n",
      "                             'files': 'files.json',\n",
      "                             'issues': 'issues.json',\n",
      "                             'releases': 'releases.json',\n",
      "                             'statistics': 'statistics.json',\n",
      "                             'vector_content': 'vector_store_content.json'}},\n",
      " 'error': None,\n",
      " 'status_with_elapsed': 'finished'}\n"
     ]
    }
   ],
   "source": [
    "github_code_only = {\n",
    "    \"repo_url\": \"https://github.com/0aub/Qitta\",\n",
    "    \"include_issues\": False,\n",
    "    \"include_releases\": False,\n",
    "    \"max_files\": 100\n",
    "}\n",
    "res1 = submit(\"github-repo\", github_code_only)\n",
    "print(\"GitHub repo (code only):\")\n",
    "pprint.pp(res1)"
   ]
  },
  {
   "cell_type": "code",
   "execution_count": 6,
   "id": "d1fe6639",
   "metadata": {},
   "outputs": [
    {
     "name": "stdout",
     "output_type": "stream",
     "text": [
      "🆔 github-repo job: 841360e37c9a4533b97a6968bce53a64\n",
      "running 6s\n",
      "finished\n",
      "GitHub repo scraping:\n",
      "{'job_id': '841360e37c9a4533b97a6968bce53a64',\n",
      " 'task_name': 'github-repo',\n",
      " 'params': {'repo_url': 'https://github.com/0aub/Qitta'},\n",
      " 'status': 'finished',\n",
      " 'created_at': '2025-08-16T08:41:05.040231',\n",
      " 'started_at': '2025-08-16T08:41:05.040486',\n",
      " 'finished_at': '2025-08-16T08:41:12.086783',\n",
      " 'result': {'repository_url': 'https://github.com/0aub/Qitta',\n",
      "            'owner': '0aub',\n",
      "            'repo_name': 'qitta',\n",
      "            'files_collected': 16,\n",
      "            'issues_collected': 0,\n",
      "            'releases_collected': 0,\n",
      "            'total_code_size': 13197,\n",
      "            'vector_items': 16,\n",
      "            'output_files': {'complete': 'repository_complete.json',\n",
      "                             'metadata': 'metadata.json',\n",
      "                             'files': 'files.json',\n",
      "                             'issues': 'issues.json',\n",
      "                             'releases': 'releases.json',\n",
      "                             'statistics': 'statistics.json',\n",
      "                             'vector_content': 'vector_store_content.json'}},\n",
      " 'error': None,\n",
      " 'status_with_elapsed': 'finished'}\n"
     ]
    }
   ],
   "source": [
    "github_test = {\"repo_url\": \"https://github.com/0aub/Qitta\"}\n",
    "res2 = submit(\"github-repo\", github_test)\n",
    "print(\"GitHub repo scraping:\")\n",
    "pprint.pp(res2)"
   ]
  },
  {
   "cell_type": "code",
   "execution_count": 7,
   "id": "5c1864a8",
   "metadata": {},
   "outputs": [],
   "source": [
    "# # Limited pages scraping\n",
    "# limited_test = {\n",
    "#     \"url\": \"https://docs.python.org\",\n",
    "#     \"max_pages\": 10\n",
    "# }\n",
    "# res3 = submit(\"scrape-site\", limited_test)\n",
    "# print(\"Limited pages scrape:\")\n",
    "# pprint.pp(res3)"
   ]
  },
  {
   "cell_type": "code",
   "execution_count": 8,
   "id": "1546c37d",
   "metadata": {},
   "outputs": [
    {
     "name": "stdout",
     "output_type": "stream",
     "text": [
      "🆔 scrape-site job: 5c133335e8f94b1ba21da93b4f7133db\n",
      "running 34s\n",
      "finished\n",
      "Fixed website scraping:\n",
      "{'job_id': '5c133335e8f94b1ba21da93b4f7133db',\n",
      " 'task_name': 'scrape-site',\n",
      " 'params': {'url': 'www.care-mate.co', 'max_pages': 5, 'use_browser': True},\n",
      " 'status': 'finished',\n",
      " 'created_at': '2025-08-16T08:41:13.109105',\n",
      " 'started_at': '2025-08-16T08:41:13.109314',\n",
      " 'finished_at': '2025-08-16T08:41:48.235276',\n",
      " 'result': {'start_url': 'https://www.care-mate.co',\n",
      "            'base_domain': 'www.care-mate.co',\n",
      "            'pages_scraped': 5,\n",
      "            'pages_failed': 0,\n",
      "            'total_content_size': 488079,\n",
      "            'html_directory': 'raw_html',\n",
      "            'metadata_file': 'crawl_metadata.json',\n",
      "            'urls_file': 'page_urls.json',\n",
      "            'quality_score_avg': 1.0},\n",
      " 'error': None,\n",
      " 'status_with_elapsed': 'finished'}\n"
     ]
    }
   ],
   "source": [
    "  # Test the fixes - website scraping (should skip CSS files now)\n",
    "  scrape_test = {\"url\": \"www.care-mate.co\", \"max_pages\": 5, \"use_browser\": True}\n",
    "  res4 = submit(\"scrape-site\", scrape_test)\n",
    "  print(\"Fixed website scraping:\")\n",
    "  pprint.pp(res4)"
   ]
  },
  {
   "cell_type": "code",
   "execution_count": 9,
   "id": "53f1c2af",
   "metadata": {},
   "outputs": [
    {
     "name": "stdout",
     "output_type": "stream",
     "text": [
      "🆔 extract-content job: 3bd32013fc20455297e9e00dfbd9d135\n",
      "\n",
      "finished\n",
      "Fixed content extraction:\n",
      "{'job_id': '3bd32013fc20455297e9e00dfbd9d135',\n",
      " 'task_name': 'extract-content',\n",
      " 'params': {'job_id': '5c133335e8f94b1ba21da93b4f7133db',\n",
      "            'chunk_size': 1000,\n",
      "            'overlap': 200},\n",
      " 'status': 'finished',\n",
      " 'created_at': '2025-08-16T08:41:49.197931',\n",
      " 'started_at': '2025-08-16T08:41:49.198118',\n",
      " 'finished_at': '2025-08-16T08:41:49.216962',\n",
      " 'result': {'source_directory': '/storage/scraped_data/scrape-site/5c133335e8f94b1ba21da93b4f7133db',\n",
      "            'html_files_found': 5,\n",
      "            'successful_extractions': 5,\n",
      "            'failed_extractions': 0,\n",
      "            'total_chunks': 48,\n",
      "            'total_tokens': 7430,\n",
      "            'content_directory': 'extracted_content',\n",
      "            'vector_store_file': 'vector_store_ready.json',\n",
      "            'summary_file': 'extraction_summary.json'},\n",
      " 'error': None,\n",
      " 'status_with_elapsed': 'finished'}\n"
     ]
    }
   ],
   "source": [
    "# Test extract-content with proper job_id discovery\n",
    "if res4.get(\"status\") == \"finished\":\n",
    "    extract_test = {\n",
    "        \"job_id\": res4[\"job_id\"],\n",
    "        \"chunk_size\": 1000,\n",
    "        \"overlap\": 200\n",
    "    }\n",
    "    res5 = submit(\"extract-content\", extract_test)\n",
    "    print(\"Fixed content extraction:\")\n",
    "    pprint.pp(res5)"
   ]
  },
  {
   "cell_type": "code",
   "execution_count": null,
   "id": "3319ae3d",
   "metadata": {},
   "outputs": [],
   "source": []
  }
 ],
 "metadata": {
  "kernelspec": {
   "display_name": "Python 3 (ipykernel)",
   "language": "python",
   "name": "python3"
  },
  "language_info": {
   "codemirror_mode": {
    "name": "ipython",
    "version": 3
   },
   "file_extension": ".py",
   "mimetype": "text/x-python",
   "name": "python",
   "nbconvert_exporter": "python",
   "pygments_lexer": "ipython3",
   "version": "3.11.13"
  }
 },
 "nbformat": 4,
 "nbformat_minor": 5
}
