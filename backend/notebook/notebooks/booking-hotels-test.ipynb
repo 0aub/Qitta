{
 "cells": [
  {
   "cell_type": "code",
   "execution_count": null,
   "id": "460a7931",
   "metadata": {},
   "outputs": [],
   "source": "import os, time, pathlib, pprint, requests, json\nfrom datetime import datetime, timedelta\n\nEP = os.getenv(\"BROWSER_ENDPOINT\", \"http://localhost:8004\")\nSCRAPED = pathlib.Path(\"/storage/scraped_data\")\n\ndef wait_for(job_id, every=3):\n    print(f\"⏳ Waiting for job {job_id}...\")\n    while True:\n        rec = requests.get(f\"{EP}/jobs/{job_id}\").json()\n        status = rec[\"status\"]\n        if status not in {\"finished\", \"error\"}:\n            print(f\"\\r⏱️  {rec['status_with_elapsed']}\", end=\"\")\n        else:\n            print(f\"\\n✅ {status.upper()}\")\n            return rec\n        time.sleep(every)\n\ndef submit(task, payload):\n    print(f\"🚀 Submitting {task} task...\")\n    print(f\"📝 Payload: {json.dumps(payload, indent=2)}\")\n    r = requests.post(f\"{EP}/jobs/{task}\", json=payload)\n    r.raise_for_status()\n    jid = r.json()[\"job_id\"]\n    print(f\"🆔 Job ID: {jid}\")\n    return wait_for(jid)\n\ndef analyze_results(result, test_name):\n    print(f\"\\n\" + \"=\"*60)\n    print(f\"📊 ANALYSIS: {test_name}\")\n    print(\"=\"*60)\n    \n    if result[\"status\"] == \"error\":\n        print(f\"❌ FAILED: {result.get('error', 'Unknown error')}\")\n        return\n    \n    if \"result\" in result:\n        res = result[\"result\"]\n        metadata = res.get(\"search_metadata\", {})\n        hotels = res.get(\"hotels\", [])\n        \n        print(f\"✅ SUCCESS: Found {len(hotels)} hotels\")\n        print(f\"📍 Location: {metadata.get('location')}\")\n        print(f\"📅 Check-in: {metadata.get('check_in')}\")\n        print(f\"📅 Check-out: {metadata.get('check_out')}\")\n        print(f\"🏨 Nights: {metadata.get('nights')}\")\n        print(f\"🔧 Method: {metadata.get('extraction_method')}\")\n        \n        if hotels:\n            avg_price = sum(h.get('price_per_night', 0) for h in hotels) / len([h for h in hotels if h.get('price_per_night')])\n            avg_rating = sum(h.get('rating', 0) for h in hotels) / len([h for h in hotels if h.get('rating')])\n            \n            if avg_price > 0:\n                print(f\"💰 Avg Price: ${avg_price:.0f}/night\")\n            if avg_rating > 0:\n                print(f\"⭐ Avg Rating: {avg_rating:.1f}/10\")\n                \n        print(f\"📊 Deep Scraping: {'Yes' if metadata.get('deep_scrape_enabled') else 'No'}\")\n        print(f\"⏱️  Completed at: {metadata.get('search_completed_at')}\")\n    else:\n        print(f\"❌ Task failed or returned unexpected result\")\n        pprint.pp(result)\n\n# Calculate future dates for testing\ntoday = datetime.now()\ncheck_in_1 = (today + timedelta(days=30)).strftime(\"%Y-%m-%d\")\ncheck_out_1 = (today + timedelta(days=33)).strftime(\"%Y-%m-%d\")\ncheck_in_2 = (today + timedelta(days=45)).strftime(\"%Y-%m-%d\")\ncheck_out_2 = (today + timedelta(days=47)).strftime(\"%Y-%m-%d\")\ncheck_in_3 = (today + timedelta(days=60)).strftime(\"%Y-%m-%d\")\ncheck_out_3 = (today + timedelta(days=64)).strftime(\"%Y-%m-%d\")\n\nprint(f\"📅 Test dates calculated:\")\nprint(f\"   Test 1: {check_in_1} to {check_out_1}\")\nprint(f\"   Test 2: {check_in_2} to {check_out_2}\")\nprint(f\"   Test 3: {check_in_3} to {check_out_3}\")"
  },
  {
   "cell_type": "code",
   "execution_count": 3,
   "id": "75afc3a1",
   "metadata": {},
   "outputs": [
    {
     "name": "stdout",
     "output_type": "stream",
     "text": [
      "🚀 Submitting booking-hotels task...\n",
      "📝 Payload: {\n",
      "  \"location\": \"Riyadh, Saudi Arabia\",\n",
      "  \"check_in\": \"2025-09-19\",\n",
      "  \"check_out\": \"2025-09-22\",\n",
      "  \"adults\": 2,\n",
      "  \"max_results\": 10\n",
      "}\n",
      "🆔 Job ID: 675a78e03ee047bca893b61b5287d0a2\n",
      "⏳ Waiting for job 675a78e03ee047bca893b61b5287d0a2...\n",
      "⏱️  running 1m 48s\n",
      "✅ FINISHED\n",
      "\n",
      "============================================================\n",
      "📊 ANALYSIS: Basic Hotel Search - Riyadh\n",
      "============================================================\n",
      "✅ SUCCESS: Found 10 hotels\n",
      "📍 Location: Riyadh, Saudi Arabia\n",
      "📅 Dates: 2025-09-19 to 2025-09-22\n",
      "🏨 Nights: 3\n",
      "💰 Avg Price: $939.0/night\n",
      "⭐ Avg Rating: 9.3/10\n",
      "⏱️  Execution Time: 109.1s\n",
      "📁 Data File: hotels_data.json\n"
     ]
    }
   ],
   "source": [
    "# Test Case 1: Basic search (Riyadh hotels)\n",
    "basic_search = {\n",
    "    \"location\": \"Riyadh, Saudi Arabia\",\n",
    "    \"check_in\": check_in_1,\n",
    "    \"check_out\": check_out_1,\n",
    "    \"adults\": 2,\n",
    "    \"max_results\": 10\n",
    "}\n",
    "\n",
    "result_1 = submit(\"booking-hotels\", basic_search)\n",
    "analyze_results(result_1, \"Basic Hotel Search - Riyadh\")"
   ]
  },
  {
   "cell_type": "code",
   "execution_count": null,
   "id": "ed148e47",
   "metadata": {},
   "outputs": [],
   "source": "# Test Case 2: Budget hotels with filters\nbudget_search = {\n    \"location\": \"Dubai, UAE\",\n    \"check_in\": check_in_2,\n    \"check_out\": check_out_2,\n    \"adults\": 1,\n    \"max_price\": 300,\n    \"min_rating\": 7.0,\n    \"max_results\": 15\n}\n\nresult_2 = submit(\"booking-hotels\", budget_search)\nanalyze_results(result_2, \"Budget Hotels - Dubai\")"
  },
  {
   "cell_type": "code",
   "execution_count": 4,
   "id": "ej3ensj9rsk",
   "metadata": {},
   "outputs": [],
   "source": [
    "# # Test Case 3: Luxury family trip\n",
    "# luxury_search = {\n",
    "#     \"location\": \"Jeddah, Saudi Arabia\",\n",
    "#     \"check_in\": check_in_3,\n",
    "#     \"check_out\": check_out_3,\n",
    "#     \"adults\": 2,\n",
    "#     \"children\": 2,\n",
    "#     \"rooms\": 2,\n",
    "#     \"min_price\": 500,\n",
    "#     \"star_rating\": [4, 5],\n",
    "#     \"amenities\": [\"pool\", \"wifi\", \"gym\"],\n",
    "#     \"max_results\": 20\n",
    "# }\n",
    "\n",
    "# result_3 = submit(\"booking-hotels\", luxury_search)\n",
    "# analyze_results(result_3, \"Luxury Family Trip - Jeddah\")"
   ]
  },
  {
   "cell_type": "code",
   "execution_count": 5,
   "id": "jqfgp697baq",
   "metadata": {},
   "outputs": [],
   "source": [
    "# # Test Case 4: Business trip (no reviews needed)\n",
    "# business_search = {\n",
    "#     \"location\": \"KAUST, Thuwal, Saudi Arabia\",\n",
    "#     \"check_in\": check_in_1,\n",
    "#     \"check_out\": check_out_1,\n",
    "#     \"adults\": 1,\n",
    "#     \"amenities\": [\"wifi\"],\n",
    "#     \"include_reviews\": False,\n",
    "#     \"max_results\": 5\n",
    "# }\n",
    "\n",
    "# result_4 = submit(\"booking-hotels\", business_search)\n",
    "# analyze_results(result_4, \"Business Trip - KAUST Area\")"
   ]
  },
  {
   "cell_type": "code",
   "execution_count": 6,
   "id": "ckwjugnkjt",
   "metadata": {},
   "outputs": [],
   "source": [
    "# # Test Case 5: Conference attendee scenario (proximity search)\n",
    "# conference_search = {\n",
    "#     \"location\": \"Riyadh International Convention Center, Riyadh\",\n",
    "#     \"search_radius\": \"5km\",\n",
    "#     \"check_in\": check_in_2,\n",
    "#     \"check_out\": check_out_2,\n",
    "#     \"adults\": 1,\n",
    "#     \"max_results\": 15\n",
    "# }\n",
    "\n",
    "# result_5 = submit(\"booking-hotels\", conference_search)\n",
    "# analyze_results(result_5, \"Conference Proximity Search\")"
   ]
  },
  {
   "cell_type": "code",
   "execution_count": 7,
   "id": "i62swcbvkle",
   "metadata": {},
   "outputs": [],
   "source": [
    "# # Test Summary\n",
    "# print(\"📋 BOOKING HOTELS TASK - TEST SUMMARY\")\n",
    "# print(\"=\"*60)\n",
    "\n",
    "# test_results = [\n",
    "#     (\"Basic Search - Riyadh\", result_1),\n",
    "#     (\"Budget Hotels - Dubai\", result_2),\n",
    "#     (\"Luxury Family - Jeddah\", result_3),\n",
    "#     (\"Business Trip - KAUST\", result_4),\n",
    "#     (\"Conference Proximity\", result_5)\n",
    "# ]\n",
    "\n",
    "# successful_tests = 0\n",
    "# failed_tests = 0\n",
    "# total_hotels = 0\n",
    "# total_execution_time = 0\n",
    "\n",
    "# for test_name, result in test_results:\n",
    "#     if result[\"status\"] == \"finished\" and result.get(\"result\", {}).get(\"success\"):\n",
    "#         successful_tests += 1\n",
    "#         hotels_found = result[\"result\"].get(\"hotels_found\", 0)\n",
    "#         exec_time = result[\"result\"].get(\"execution_time_seconds\", 0)\n",
    "#         total_hotels += hotels_found\n",
    "#         total_execution_time += exec_time\n",
    "#         print(f\"✅ {test_name}: {hotels_found} hotels ({exec_time}s)\")\n",
    "#     else:\n",
    "#         failed_tests += 1\n",
    "#         error_msg = result.get(\"error\", \"Unknown error\")\n",
    "#         print(f\"❌ {test_name}: FAILED - {error_msg}\")\n",
    "\n",
    "# print(\"\\n📊 OVERALL STATISTICS:\")\n",
    "# print(f\"   ✅ Successful tests: {successful_tests}/{len(test_results)}\")\n",
    "# print(f\"   ❌ Failed tests: {failed_tests}/{len(test_results)}\")\n",
    "# print(f\"   🏨 Total hotels collected: {total_hotels}\")\n",
    "# print(f\"   ⏱️  Total execution time: {total_execution_time:.1f}s\")\n",
    "# print(f\"   📁 Data files saved to: {SCRAPED}/booking-hotels/\")\n",
    "\n",
    "# if successful_tests == len(test_results):\n",
    "#     print(\"\\n🎉 ALL TESTS PASSED! The booking-hotels task is working perfectly.\")\n",
    "# elif successful_tests >= len(test_results) * 0.75:\n",
    "#     print(\"\\n✅ Most tests passed. The booking-hotels task is working well with minor issues.\")\n",
    "# else:\n",
    "#     print(\"\\n⚠️  Multiple tests failed. The booking-hotels task needs debugging.\")\n",
    "\n",
    "# print(\"\\n🔍 To examine detailed results, check the JSON files in the data directories.\")"
   ]
  },
  {
   "cell_type": "code",
   "execution_count": null,
   "id": "uidl23iaw8",
   "metadata": {},
   "outputs": [],
   "source": "# Test NEW DOM Scraping Implementation v6.0\nprint(\"🧪 Testing NEW DOM-based scraper v6.0 with Dubai search...\")\nprint(\"🎯 Expected: Dubai hotels with UAE addresses (not Saudi Arabia weekend deals)\")\n\ndubai_test_new = {\n    \"location\": \"Dubai, UAE\",\n    \"check_in\": check_in_2,\n    \"check_out\": check_out_2,\n    \"adults\": 2,\n    \"max_results\": 5\n}\n\nresult_dubai_new = submit(\"booking-hotels\", dubai_test_new)\n\n# Enhanced analysis for new implementation\nif result_dubai_new[\"status\"] == \"finished\":\n    res = result_dubai_new[\"result\"]\n    hotels = res.get(\"hotels\", [])\n    metadata = res.get(\"search_metadata\", {})\n    \n    print(f\"\\n🔍 NEW IMPLEMENTATION ANALYSIS:\")\n    print(f\"📊 Total hotels found: {len(hotels)}\")\n    print(f\"🔧 Extraction method: {metadata.get('extraction_method', 'unknown')}\")\n    \n    dubai_count = 0\n    saudi_count = 0\n    search_result_count = 0\n    weekend_deal_count = 0\n    hotels_with_prices = 0\n    total_price = 0\n    \n    for i, hotel in enumerate(hotels, 1):\n        name = hotel.get('name', 'Unknown')\n        address = hotel.get('address', '').lower()\n        source = hotel.get('source', 'unknown')\n        price = hotel.get('price_per_night')\n        rating = hotel.get('rating', 'N/A')\n        completeness = hotel.get('data_completeness', 0)\n        \n        print(f\"\\n🏨 Hotel #{i}: {name}\")\n        print(f\"   📍 Address: {address or 'N/A'}\")\n        print(f\"   💰 Price: ${price}/night\" if price else \"   💰 Price: N/A\")\n        print(f\"   ⭐ Rating: {rating}/10\")\n        print(f\"   🔧 Source: {source}\")\n        print(f\"   📊 Completeness: {completeness}%\")\n        \n        # Count source types\n        if source == 'search_results':\n            search_result_count += 1\n        elif source == 'weekend_deals':\n            weekend_deal_count += 1\n        \n        # Count prices\n        if price:\n            hotels_with_prices += 1\n            total_price += price\n        \n        # Analyze location\n        if address:\n            if any(keyword in address for keyword in ['dubai', 'uae', 'united arab emirates', 'emirate']):\n                dubai_count += 1\n                print(f\"   ✅ DUBAI/UAE HOTEL CONFIRMED\")\n            elif any(keyword in address for keyword in ['saudi', 'riyadh', 'jeddah', 'mecca', 'dammam', 'khobar']):\n                saudi_count += 1\n                print(f\"   🇸🇦 SAUDI ARABIA HOTEL (LOCATION MISMATCH!)\")\n            else:\n                print(f\"   ❓ Location unclear from address\")\n        else:\n            print(f\"   ❓ No address data\")\n    \n    # Calculate averages\n    avg_price = total_price / hotels_with_prices if hotels_with_prices > 0 else 0\n    avg_completeness = sum(h.get('data_completeness', 0) for h in hotels) / len(hotels) if hotels else 0\n    \n    print(f\"\\n📊 NEW IMPLEMENTATION METRICS:\")\n    print(f\"   🎯 Search Results: {search_result_count} hotels\")\n    print(f\"   🎪 Weekend Deals: {weekend_deal_count} hotels\")  \n    print(f\"   💰 Hotels with prices: {hotels_with_prices}/{len(hotels)}\")\n    print(f\"   💵 Average price: ${avg_price:.0f}/night\" if avg_price > 0 else \"   💵 Average price: N/A\")\n    print(f\"   📊 Average completeness: {avg_completeness:.1f}%\")\n    \n    print(f\"\\n🌍 LOCATION ACCURACY:\")\n    print(f\"   🇦🇪 Dubai/UAE hotels: {dubai_count}\")\n    print(f\"   🇸🇦 Saudi Arabia hotels: {saudi_count}\")\n    print(f\"   ❓ Unclear location: {len(hotels) - dubai_count - saudi_count}\")\n    \n    # SUCCESS ANALYSIS\n    print(f\"\\n🎯 SUCCESS ANALYSIS:\")\n    \n    if search_result_count > weekend_deal_count:\n        print(f\"✅ SOURCE SUCCESS: More search results ({search_result_count}) than weekend deals ({weekend_deal_count})\")\n    else:\n        print(f\"❌ SOURCE ISSUE: More weekend deals ({weekend_deal_count}) than search results ({search_result_count})\")\n    \n    if dubai_count > saudi_count:\n        print(f\"✅ LOCATION SUCCESS: More Dubai hotels ({dubai_count}) than Saudi hotels ({saudi_count})\")\n        if dubai_count >= len(hotels) * 0.8:\n            print(f\"🎉 EXCELLENT: {dubai_count}/{len(hotels)} hotels are location-accurate (≥80%)\")\n        else:\n            print(f\"✅ GOOD: {dubai_count}/{len(hotels)} hotels are location-accurate\")\n    elif saudi_count > 0:\n        print(f\"❌ LOCATION ISSUE: Found {saudi_count} Saudi hotels when searching for Dubai\")\n    else:\n        print(f\"❓ LOCATION UNCLEAR: Need more address data to verify accuracy\")\n    \n    if metadata.get('extraction_method') == 'quick_extraction':\n        print(f\"✅ METHOD SUCCESS: Using quick DOM extraction (not GraphQL)\")\n    \n    # OVERALL VERDICT\n    if dubai_count >= len(hotels) * 0.8 and search_result_count > weekend_deal_count:\n        print(f\"\\n🎉 INTEGRATION SUCCESS: New DOM scraping is working correctly!\")\n        print(f\"   • Location-specific results: {dubai_count}/{len(hotels)} hotels\")\n        print(f\"   • Actual search results: {search_result_count} vs {weekend_deal_count} weekend deals\")\n        print(f\"   • Price extraction: {hotels_with_prices}/{len(hotels)} hotels\")\n    elif dubai_count > saudi_count:\n        print(f\"\\n✅ PARTIAL SUCCESS: Significant improvement over old GraphQL approach\")\n        print(f\"   • Getting Dubai hotels instead of Saudi weekend deals\")\n        print(f\"   • Room for improvement in data completeness\")\n    else:\n        print(f\"\\n⚠️  NEEDS WORK: Still issues with location accuracy or data extraction\")\n        \nelse:\n    print(f\"❌ Test FAILED: {result_dubai_new.get('error', 'Unknown error')}\")\n\nprint(\"\\n\" + \"=\"*80)"
  }
 ],
 "metadata": {
  "kernelspec": {
   "display_name": "Python 3 (ipykernel)",
   "language": "python",
   "name": "python3"
  },
  "language_info": {
   "codemirror_mode": {
    "name": "ipython",
    "version": 3
   },
   "file_extension": ".py",
   "mimetype": "text/x-python",
   "name": "python",
   "nbconvert_exporter": "python",
   "pygments_lexer": "ipython3",
   "version": "3.11.13"
  }
 },
 "nbformat": 4,
 "nbformat_minor": 5
}