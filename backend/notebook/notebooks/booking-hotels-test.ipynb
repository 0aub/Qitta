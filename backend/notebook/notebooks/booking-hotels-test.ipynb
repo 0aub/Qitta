{
 "cells": [
  {
   "cell_type": "code",
   "execution_count": null,
   "id": "460a7931",
   "metadata": {},
   "outputs": [],
   "source": "import os, time, pathlib, pprint, requests, json\nfrom datetime import datetime, timedelta\n\nEP = os.getenv(\"BROWSER_ENDPOINT\", \"http://browser:8004\")\nSCRAPED = pathlib.Path(\"/storage/scraped_data\")\n\ndef wait_for(job_id, every=3):\n    print(f\"⏳ Waiting for job {job_id}...\")\n    while True:\n        rec = requests.get(f\"{EP}/jobs/{job_id}\").json()\n        status = rec[\"status\"]\n        if status not in {\"finished\", \"error\"}:\n            print(f\"\\r⏱️  {rec['status_with_elapsed']}\", end=\"\")\n        else:\n            print(f\"\\n✅ {status.upper()}\")\n            return rec\n        time.sleep(every)\n\ndef submit(task, payload):\n    print(f\"🚀 Submitting {task} task...\")\n    print(f\"📝 Payload: {json.dumps(payload, indent=2)}\")\n    r = requests.post(f\"{EP}/jobs/{task}\", json=payload)\n    r.raise_for_status()\n    jid = r.json()[\"job_id\"]\n    print(f\"🆔 Job ID: {jid}\")\n    return wait_for(jid)\n\ndef analyze_results(result, test_name):\n    print(f\"\\n\" + \"=\"*60)\n    print(f\"📊 ANALYSIS: {test_name}\")\n    print(\"=\"*60)\n    \n    if result[\"status\"] == \"error\":\n        print(f\"❌ FAILED: {result.get('error', 'Unknown error')}\")\n        return\n    \n    if \"result\" in result and result[\"result\"].get(\"success\"):\n        res = result[\"result\"]\n        print(f\"✅ SUCCESS: Found {res.get('hotels_found', 0)} hotels\")\n        print(f\"📍 Location: {res.get('location')}\")\n        print(f\"📅 Dates: {res.get('date_range')}\")\n        print(f\"🏨 Nights: {res.get('nights')}\")\n        if res.get('average_price_per_night'):\n            print(f\"💰 Avg Price: ${res['average_price_per_night']}/night\")\n        if res.get('average_rating'):\n            print(f\"⭐ Avg Rating: {res['average_rating']}/10\")\n        print(f\"⏱️  Execution Time: {res.get('execution_time_seconds')}s\")\n        print(f\"📁 Data File: {res.get('data_file')}\")\n    else:\n        print(f\"❌ Task failed or returned unexpected result\")\n        pprint.pp(result)\n\n# Calculate future dates for testing\ntoday = datetime.now()\ncheck_in_1 = (today + timedelta(days=30)).strftime(\"%Y-%m-%d\")\ncheck_out_1 = (today + timedelta(days=33)).strftime(\"%Y-%m-%d\")\ncheck_in_2 = (today + timedelta(days=45)).strftime(\"%Y-%m-%d\")\ncheck_out_2 = (today + timedelta(days=47)).strftime(\"%Y-%m-%d\")\ncheck_in_3 = (today + timedelta(days=60)).strftime(\"%Y-%m-%d\")\ncheck_out_3 = (today + timedelta(days=64)).strftime(\"%Y-%m-%d\")\n\nprint(f\"📅 Test dates calculated:\")\nprint(f\"   Test 1: {check_in_1} to {check_out_1}\")\nprint(f\"   Test 2: {check_in_2} to {check_out_2}\")\nprint(f\"   Test 3: {check_in_3} to {check_out_3}\")"
  },
  {
   "cell_type": "code",
   "execution_count": null,
   "id": "75afc3a1",
   "metadata": {},
   "outputs": [],
   "source": "# Test Case 1: Basic search (Riyadh hotels)\nbasic_search = {\n    \"location\": \"Riyadh, Saudi Arabia\",\n    \"check_in\": check_in_1,\n    \"check_out\": check_out_1,\n    \"adults\": 2,\n    \"max_results\": 10\n}\n\nresult_1 = submit(\"booking-hotels\", basic_search)\nanalyze_results(result_1, \"Basic Hotel Search - Riyadh\")"
  },
  {
   "cell_type": "code",
   "execution_count": null,
   "id": "ed148e47",
   "metadata": {},
   "outputs": [],
   "source": "# Test Case 2: Budget hotels with filters\nbudget_search = {\n    \"location\": \"Dubai, UAE\",\n    \"check_in\": check_in_2,\n    \"check_out\": check_out_2,\n    \"adults\": 1,\n    \"max_price\": 300,\n    \"min_rating\": 7.0,\n    \"max_results\": 15\n}\n\nresult_2 = submit(\"booking-hotels\", budget_search)\nanalyze_results(result_2, \"Budget Hotels - Dubai\")"
  },
  {
   "cell_type": "code",
   "id": "ej3ensj9rsk",
   "source": "# Test Case 3: Luxury family trip\nluxury_search = {\n    \"location\": \"Jeddah, Saudi Arabia\",\n    \"check_in\": check_in_3,\n    \"check_out\": check_out_3,\n    \"adults\": 2,\n    \"children\": 2,\n    \"rooms\": 2,\n    \"min_price\": 500,\n    \"star_rating\": [4, 5],\n    \"amenities\": [\"pool\", \"wifi\", \"gym\"],\n    \"max_results\": 20\n}\n\nresult_3 = submit(\"booking-hotels\", luxury_search)\nanalyze_results(result_3, \"Luxury Family Trip - Jeddah\")",
   "metadata": {},
   "execution_count": null,
   "outputs": []
  },
  {
   "cell_type": "code",
   "id": "jqfgp697baq",
   "source": "# Test Case 4: Business trip (no reviews needed)\nbusiness_search = {\n    \"location\": \"KAUST, Thuwal, Saudi Arabia\",\n    \"check_in\": check_in_1,\n    \"check_out\": check_out_1,\n    \"adults\": 1,\n    \"amenities\": [\"wifi\"],\n    \"include_reviews\": False,\n    \"max_results\": 5\n}\n\nresult_4 = submit(\"booking-hotels\", business_search)\nanalyze_results(result_4, \"Business Trip - KAUST Area\")",
   "metadata": {},
   "execution_count": null,
   "outputs": []
  },
  {
   "cell_type": "code",
   "id": "ckwjugnkjt",
   "source": "# Test Case 5: Conference attendee scenario (proximity search)\nconference_search = {\n    \"location\": \"Riyadh International Convention Center, Riyadh\",\n    \"search_radius\": \"5km\",\n    \"check_in\": check_in_2,\n    \"check_out\": check_out_2,\n    \"adults\": 1,\n    \"max_results\": 15\n}\n\nresult_5 = submit(\"booking-hotels\", conference_search)\nanalyze_results(result_5, \"Conference Proximity Search\")",
   "metadata": {},
   "execution_count": null,
   "outputs": []
  },
  {
   "cell_type": "code",
   "id": "i62swcbvkle",
   "source": "# Test Summary\nprint(\"📋 BOOKING HOTELS TASK - TEST SUMMARY\")\nprint(\"=\"*60)\n\ntest_results = [\n    (\"Basic Search - Riyadh\", result_1),\n    (\"Budget Hotels - Dubai\", result_2),\n    (\"Luxury Family - Jeddah\", result_3),\n    (\"Business Trip - KAUST\", result_4),\n    (\"Conference Proximity\", result_5)\n]\n\nsuccessful_tests = 0\nfailed_tests = 0\ntotal_hotels = 0\ntotal_execution_time = 0\n\nfor test_name, result in test_results:\n    if result[\"status\"] == \"finished\" and result.get(\"result\", {}).get(\"success\"):\n        successful_tests += 1\n        hotels_found = result[\"result\"].get(\"hotels_found\", 0)\n        exec_time = result[\"result\"].get(\"execution_time_seconds\", 0)\n        total_hotels += hotels_found\n        total_execution_time += exec_time\n        print(f\"✅ {test_name}: {hotels_found} hotels ({exec_time}s)\")\n    else:\n        failed_tests += 1\n        error_msg = result.get(\"error\", \"Unknown error\")\n        print(f\"❌ {test_name}: FAILED - {error_msg}\")\n\nprint(\"\\n📊 OVERALL STATISTICS:\")\nprint(f\"   ✅ Successful tests: {successful_tests}/{len(test_results)}\")\nprint(f\"   ❌ Failed tests: {failed_tests}/{len(test_results)}\")\nprint(f\"   🏨 Total hotels collected: {total_hotels}\")\nprint(f\"   ⏱️  Total execution time: {total_execution_time:.1f}s\")\nprint(f\"   📁 Data files saved to: {SCRAPED}/booking-hotels/\")\n\nif successful_tests == len(test_results):\n    print(\"\\n🎉 ALL TESTS PASSED! The booking-hotels task is working perfectly.\")\nelif successful_tests >= len(test_results) * 0.75:\n    print(\"\\n✅ Most tests passed. The booking-hotels task is working well with minor issues.\")\nelse:\n    print(\"\\n⚠️  Multiple tests failed. The booking-hotels task needs debugging.\")\n\nprint(\"\\n🔍 To examine detailed results, check the JSON files in the data directories.\")",
   "metadata": {},
   "execution_count": null,
   "outputs": []
  }
 ],
 "metadata": {
  "language_info": {
   "name": "python"
  }
 },
 "nbformat": 4,
 "nbformat_minor": 5
}